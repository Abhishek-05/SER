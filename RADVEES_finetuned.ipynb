{
  "nbformat": 4,
  "nbformat_minor": 0,
  "metadata": {
    "colab": {
      "name": "final_vgg_finetuned.ipynb",
      "provenance": [],
      "collapsed_sections": []
    },
    "kernelspec": {
      "name": "python3",
      "display_name": "Python 3"
    },
    "accelerator": "GPU"
  },
  "cells": [
    {
      "cell_type": "code",
      "metadata": {
        "id": "IXQEgdVjJZmI",
        "colab_type": "code",
        "colab": {}
      },
      "source": [
        "import os\n",
        "import numpy as np\n",
        "from PIL import Image\n",
        "import cv2\n"
      ],
      "execution_count": 0,
      "outputs": []
    },
    {
      "cell_type": "code",
      "metadata": {
        "id": "MZK5agNmJtuF",
        "colab_type": "code",
        "outputId": "cf360c9c-73b7-4729-aeac-f59a1e994128",
        "colab": {
          "base_uri": "https://localhost:8080/",
          "height": 62
        }
      },
      "source": [
        "import tensorflow as tf\n",
        "from tensorflow import keras\n",
        "from tensorflow.keras import layers\n",
        "from tensorflow.keras import models\n",
        "from tensorflow.keras.layers import ReLU\n",
        "from tensorflow.keras import optimizers\n",
        "import librosa\n",
        "import librosa.display\n",
        "import pylab\n",
        "import matplotlib.pyplot as plt\n",
        "from matplotlib import figure\n",
        "from tensorflow.keras.models import Sequential\n",
        "from tensorflow.keras.layers import Dense, Conv2D, Flatten, Dropout, MaxPooling2D"
      ],
      "execution_count": 0,
      "outputs": [
        {
          "output_type": "display_data",
          "data": {
            "text/html": [
              "<p style=\"color: red;\">\n",
              "The default version of TensorFlow in Colab will soon switch to TensorFlow 2.x.<br>\n",
              "We recommend you <a href=\"https://www.tensorflow.org/guide/migrate\" target=\"_blank\">upgrade</a> now \n",
              "or ensure your notebook will continue to use TensorFlow 1.x via the <code>%tensorflow_version 1.x</code> magic:\n",
              "<a href=\"https://colab.research.google.com/notebooks/tensorflow_version.ipynb\" target=\"_blank\">more info</a>.</p>\n"
            ],
            "text/plain": [
              "<IPython.core.display.HTML object>"
            ]
          },
          "metadata": {
            "tags": []
          }
        }
      ]
    },
    {
      "cell_type": "code",
      "metadata": {
        "id": "-R9X06R3KhdB",
        "colab_type": "code",
        "outputId": "0ddb6179-31c6-4f91-8eeb-ef841a572922",
        "colab": {
          "base_uri": "https://localhost:8080/",
          "height": 121
        }
      },
      "source": [
        "from google.colab import drive\n",
        "drive.mount('/content/drive')"
      ],
      "execution_count": 0,
      "outputs": [
        {
          "output_type": "stream",
          "text": [
            "Go to this URL in a browser: https://accounts.google.com/o/oauth2/auth?client_id=947318989803-6bn6qk8qdgf4n4g3pfee6491hc0brc4i.apps.googleusercontent.com&redirect_uri=urn%3aietf%3awg%3aoauth%3a2.0%3aoob&response_type=code&scope=email%20https%3a%2f%2fwww.googleapis.com%2fauth%2fdocs.test%20https%3a%2f%2fwww.googleapis.com%2fauth%2fdrive%20https%3a%2f%2fwww.googleapis.com%2fauth%2fdrive.photos.readonly%20https%3a%2f%2fwww.googleapis.com%2fauth%2fpeopleapi.readonly\n",
            "\n",
            "Enter your authorization code:\n",
            "··········\n",
            "Mounted at /content/drive\n"
          ],
          "name": "stdout"
        }
      ]
    },
    {
      "cell_type": "code",
      "metadata": {
        "id": "TCMy4UnbKt7D",
        "colab_type": "code",
        "colab": {}
      },
      "source": [
        "train = np.load('drive/My Drive/train.npy')\n",
        "test = np.load('drive/My Drive/test.npy')\n",
        "train_labels = np.load('drive/My Drive/train_labels.npy')\n",
        "test_labels = np.load('drive/My Drive/test_labels.npy')"
      ],
      "execution_count": 0,
      "outputs": []
    },
    {
      "cell_type": "code",
      "metadata": {
        "id": "1aeBqrSGOyt9",
        "colab_type": "code",
        "outputId": "9bc82971-9008-4345-95b4-03305fb096ad",
        "colab": {
          "base_uri": "https://localhost:8080/",
          "height": 121
        }
      },
      "source": [
        "IMG_SHAPE = (256, 256, 3)\n",
        "\n",
        "# Create the base model from the pre-trained model MobileNet V2\n",
        "base_model = keras.applications.VGG16(input_shape=IMG_SHAPE,\n",
        "                                               include_top=False,\n",
        "                                               weights='imagenet')\n",
        "                                               "
      ],
      "execution_count": 0,
      "outputs": [
        {
          "output_type": "stream",
          "text": [
            "WARNING:tensorflow:From /usr/local/lib/python3.6/dist-packages/tensorflow_core/python/ops/resource_variable_ops.py:1630: calling BaseResourceVariable.__init__ (from tensorflow.python.ops.resource_variable_ops) with constraint is deprecated and will be removed in a future version.\n",
            "Instructions for updating:\n",
            "If using Keras pass *_constraint arguments to layers.\n",
            "Downloading data from https://github.com/fchollet/deep-learning-models/releases/download/v0.1/vgg16_weights_tf_dim_ordering_tf_kernels_notop.h5\n",
            "58892288/58889256 [==============================] - 2s 0us/step\n"
          ],
          "name": "stdout"
        }
      ]
    },
    {
      "cell_type": "code",
      "metadata": {
        "id": "LTyXJxYdPJ3Y",
        "colab_type": "code",
        "outputId": "be4f0605-c5b6-46bd-d50d-0f79379ef2cc",
        "colab": {
          "base_uri": "https://localhost:8080/",
          "height": 34
        }
      },
      "source": [
        "from keras.applications.vgg16 import preprocess_input\n",
        "train_2 = [ (np.dstack((x,x,x))) for x in train ]\n",
        "test_2 = [ (np.dstack((x,x,x))) for x in test ]"
      ],
      "execution_count": 0,
      "outputs": [
        {
          "output_type": "stream",
          "text": [
            "Using TensorFlow backend.\n"
          ],
          "name": "stderr"
        }
      ]
    },
    {
      "cell_type": "code",
      "metadata": {
        "id": "drRgbXLtVBxF",
        "colab_type": "code",
        "outputId": "e25a3e07-f5c9-4c13-a3b8-11fefd577f33",
        "colab": {
          "base_uri": "https://localhost:8080/",
          "height": 1000
        }
      },
      "source": [
        "(1-np.array(train_2))"
      ],
      "execution_count": 0,
      "outputs": [
        {
          "output_type": "execute_result",
          "data": {
            "text/plain": [
              "array([[[[ 0.        ,  0.        ,  0.        ],\n",
              "         [ 0.        ,  0.        ,  0.        ],\n",
              "         [ 0.        ,  0.        ,  0.        ],\n",
              "         ...,\n",
              "         [ 0.        ,  0.        ,  0.        ],\n",
              "         [ 0.        ,  0.        ,  0.        ],\n",
              "         [ 0.        ,  0.        ,  0.        ]],\n",
              "\n",
              "        [[ 0.        ,  0.        ,  0.        ],\n",
              "         [ 0.        ,  0.        ,  0.        ],\n",
              "         [ 0.        ,  0.        ,  0.        ],\n",
              "         ...,\n",
              "         [ 0.        ,  0.        ,  0.        ],\n",
              "         [ 0.        ,  0.        ,  0.        ],\n",
              "         [ 0.        ,  0.        ,  0.        ]],\n",
              "\n",
              "        [[ 0.        ,  0.        ,  0.        ],\n",
              "         [ 0.        ,  0.        ,  0.        ],\n",
              "         [ 0.        ,  0.        ,  0.        ],\n",
              "         ...,\n",
              "         [ 0.        ,  0.        ,  0.        ],\n",
              "         [ 0.        ,  0.        ,  0.        ],\n",
              "         [ 0.        ,  0.        ,  0.        ]],\n",
              "\n",
              "        ...,\n",
              "\n",
              "        [[ 0.        ,  0.        ,  0.        ],\n",
              "         [ 0.        ,  0.        ,  0.        ],\n",
              "         [ 0.        ,  0.        ,  0.        ],\n",
              "         ...,\n",
              "         [ 0.        ,  0.        ,  0.        ],\n",
              "         [ 0.        ,  0.        ,  0.        ],\n",
              "         [ 0.        ,  0.        ,  0.        ]],\n",
              "\n",
              "        [[ 0.        ,  0.        ,  0.        ],\n",
              "         [ 0.        ,  0.        ,  0.        ],\n",
              "         [ 0.        ,  0.        ,  0.        ],\n",
              "         ...,\n",
              "         [ 0.        ,  0.        ,  0.        ],\n",
              "         [ 0.        ,  0.        ,  0.        ],\n",
              "         [ 0.        ,  0.        ,  0.        ]],\n",
              "\n",
              "        [[ 0.        ,  0.        ,  0.        ],\n",
              "         [ 0.        ,  0.        ,  0.        ],\n",
              "         [ 0.        ,  0.        ,  0.        ],\n",
              "         ...,\n",
              "         [ 0.        ,  0.        ,  0.        ],\n",
              "         [ 0.        ,  0.        ,  0.        ],\n",
              "         [ 0.        ,  0.        ,  0.        ]]],\n",
              "\n",
              "\n",
              "       [[[ 0.        ,  0.        ,  0.        ],\n",
              "         [ 0.        ,  0.        ,  0.        ],\n",
              "         [ 0.        ,  0.        ,  0.        ],\n",
              "         ...,\n",
              "         [ 0.        ,  0.        ,  0.        ],\n",
              "         [ 0.        ,  0.        ,  0.        ],\n",
              "         [ 0.        ,  0.        ,  0.        ]],\n",
              "\n",
              "        [[ 0.        ,  0.        ,  0.        ],\n",
              "         [ 0.        ,  0.        ,  0.        ],\n",
              "         [ 0.        ,  0.        ,  0.        ],\n",
              "         ...,\n",
              "         [ 0.        ,  0.        ,  0.        ],\n",
              "         [ 0.        ,  0.        ,  0.        ],\n",
              "         [ 0.        ,  0.        ,  0.        ]],\n",
              "\n",
              "        [[ 0.        ,  0.        ,  0.        ],\n",
              "         [ 0.        ,  0.        ,  0.        ],\n",
              "         [ 0.        ,  0.        ,  0.        ],\n",
              "         ...,\n",
              "         [ 0.        ,  0.        ,  0.        ],\n",
              "         [ 0.        ,  0.        ,  0.        ],\n",
              "         [ 0.        ,  0.        ,  0.        ]],\n",
              "\n",
              "        ...,\n",
              "\n",
              "        [[ 0.        ,  0.        ,  0.        ],\n",
              "         [ 0.        ,  0.        ,  0.        ],\n",
              "         [ 0.        ,  0.        ,  0.        ],\n",
              "         ...,\n",
              "         [ 0.        ,  0.        ,  0.        ],\n",
              "         [ 0.        ,  0.        ,  0.        ],\n",
              "         [ 0.        ,  0.        ,  0.        ]],\n",
              "\n",
              "        [[ 0.        ,  0.        ,  0.        ],\n",
              "         [ 0.        ,  0.        ,  0.        ],\n",
              "         [ 0.        ,  0.        ,  0.        ],\n",
              "         ...,\n",
              "         [ 0.        ,  0.        ,  0.        ],\n",
              "         [ 0.        ,  0.        ,  0.        ],\n",
              "         [ 0.        ,  0.        ,  0.        ]],\n",
              "\n",
              "        [[ 0.        ,  0.        ,  0.        ],\n",
              "         [ 0.        ,  0.        ,  0.        ],\n",
              "         [ 0.        ,  0.        ,  0.        ],\n",
              "         ...,\n",
              "         [ 0.        ,  0.        ,  0.        ],\n",
              "         [ 0.        ,  0.        ,  0.        ],\n",
              "         [ 0.        ,  0.        ,  0.        ]]],\n",
              "\n",
              "\n",
              "       [[[ 0.        ,  0.        ,  0.        ],\n",
              "         [ 0.        ,  0.        ,  0.        ],\n",
              "         [ 0.        ,  0.        ,  0.        ],\n",
              "         ...,\n",
              "         [ 0.        ,  0.        ,  0.        ],\n",
              "         [ 0.        ,  0.        ,  0.        ],\n",
              "         [ 0.        ,  0.        ,  0.        ]],\n",
              "\n",
              "        [[ 0.        ,  0.        ,  0.        ],\n",
              "         [ 0.        ,  0.        ,  0.        ],\n",
              "         [ 0.        ,  0.        ,  0.        ],\n",
              "         ...,\n",
              "         [ 0.        ,  0.        ,  0.        ],\n",
              "         [ 0.        ,  0.        ,  0.        ],\n",
              "         [ 0.        ,  0.        ,  0.        ]],\n",
              "\n",
              "        [[ 0.        ,  0.        ,  0.        ],\n",
              "         [ 0.        ,  0.        ,  0.        ],\n",
              "         [ 0.        ,  0.        ,  0.        ],\n",
              "         ...,\n",
              "         [ 0.        ,  0.        ,  0.        ],\n",
              "         [ 0.        ,  0.        ,  0.        ],\n",
              "         [ 0.        ,  0.        ,  0.        ]],\n",
              "\n",
              "        ...,\n",
              "\n",
              "        [[ 0.        ,  0.        ,  0.        ],\n",
              "         [ 0.        ,  0.        ,  0.        ],\n",
              "         [ 0.        ,  0.        ,  0.        ],\n",
              "         ...,\n",
              "         [ 0.        ,  0.        ,  0.        ],\n",
              "         [ 0.        ,  0.        ,  0.        ],\n",
              "         [ 0.        ,  0.        ,  0.        ]],\n",
              "\n",
              "        [[ 0.        ,  0.        ,  0.        ],\n",
              "         [ 0.        ,  0.        ,  0.        ],\n",
              "         [ 0.        ,  0.        ,  0.        ],\n",
              "         ...,\n",
              "         [ 0.        ,  0.        ,  0.        ],\n",
              "         [ 0.        ,  0.        ,  0.        ],\n",
              "         [ 0.        ,  0.        ,  0.        ]],\n",
              "\n",
              "        [[ 0.        ,  0.        ,  0.        ],\n",
              "         [ 0.        ,  0.        ,  0.        ],\n",
              "         [ 0.        ,  0.        ,  0.        ],\n",
              "         ...,\n",
              "         [ 0.        ,  0.        ,  0.        ],\n",
              "         [ 0.        ,  0.        ,  0.        ],\n",
              "         [ 0.        ,  0.        ,  0.        ]]],\n",
              "\n",
              "\n",
              "       ...,\n",
              "\n",
              "\n",
              "       [[[ 0.0038082 ,  0.0038082 ,  0.0038082 ],\n",
              "         [ 0.13540149,  0.13540149,  0.13540149],\n",
              "         [ 0.12585777,  0.12585777,  0.12585777],\n",
              "         ...,\n",
              "         [ 0.44984162,  0.44984162,  0.44984162],\n",
              "         [ 0.40602052,  0.40602052,  0.40602052],\n",
              "         [ 0.39485854,  0.39485854,  0.39485854]],\n",
              "\n",
              "        [[ 0.02657443,  0.02657443,  0.02657443],\n",
              "         [ 0.14088261,  0.14088261,  0.14088261],\n",
              "         [ 0.13593179,  0.13593179,  0.13593179],\n",
              "         ...,\n",
              "         [ 0.43140948,  0.43140948,  0.43140948],\n",
              "         [ 0.36537355,  0.36537355,  0.36537355],\n",
              "         [ 0.35460818,  0.35460818,  0.35460818]],\n",
              "\n",
              "        [[ 0.06427324,  0.06427324,  0.06427324],\n",
              "         [ 0.15040922,  0.15040922,  0.15040922],\n",
              "         [ 0.15323424,  0.15323424,  0.15323424],\n",
              "         ...,\n",
              "         [ 0.40329844,  0.40329844,  0.40329844],\n",
              "         [ 0.29953337,  0.29953337,  0.29953337],\n",
              "         [ 0.2898301 ,  0.2898301 ,  0.2898301 ]],\n",
              "\n",
              "        ...,\n",
              "\n",
              "        [[ 0.        ,  0.        ,  0.        ],\n",
              "         [ 0.        ,  0.        ,  0.        ],\n",
              "         [ 0.        ,  0.        ,  0.        ],\n",
              "         ...,\n",
              "         [ 0.        ,  0.        ,  0.        ],\n",
              "         [ 0.        ,  0.        ,  0.        ],\n",
              "         [ 0.        ,  0.        ,  0.        ]],\n",
              "\n",
              "        [[ 0.        ,  0.        ,  0.        ],\n",
              "         [ 0.        ,  0.        ,  0.        ],\n",
              "         [ 0.        ,  0.        ,  0.        ],\n",
              "         ...,\n",
              "         [ 0.        ,  0.        ,  0.        ],\n",
              "         [ 0.        ,  0.        ,  0.        ],\n",
              "         [ 0.        ,  0.        ,  0.        ]],\n",
              "\n",
              "        [[ 0.        ,  0.        ,  0.        ],\n",
              "         [ 0.        ,  0.        ,  0.        ],\n",
              "         [ 0.        ,  0.        ,  0.        ],\n",
              "         ...,\n",
              "         [ 0.        ,  0.        ,  0.        ],\n",
              "         [ 0.        ,  0.        ,  0.        ],\n",
              "         [ 0.        ,  0.        ,  0.        ]]],\n",
              "\n",
              "\n",
              "       [[[ 0.27861828,  0.27861828,  0.27861828],\n",
              "         [ 0.41957933,  0.41957933,  0.41957933],\n",
              "         [ 0.37339205,  0.37339205,  0.37339205],\n",
              "         ...,\n",
              "         [ 0.3518811 ,  0.3518811 ,  0.3518811 ],\n",
              "         [ 0.35395646,  0.35395646,  0.35395646],\n",
              "         [ 0.27177507,  0.27177507,  0.27177507]],\n",
              "\n",
              "        [[ 0.2919169 ,  0.2919169 ,  0.2919169 ],\n",
              "         [ 0.4202881 ,  0.4202881 ,  0.4202881 ],\n",
              "         [ 0.38244116,  0.38244116,  0.38244116],\n",
              "         ...,\n",
              "         [ 0.32855415,  0.32855415,  0.32855415],\n",
              "         [ 0.3427539 ,  0.3427539 ,  0.3427539 ],\n",
              "         [ 0.26661086,  0.26661086,  0.26661086]],\n",
              "\n",
              "        [[ 0.31467497,  0.31467497,  0.31467497],\n",
              "         [ 0.42217195,  0.42217195,  0.42217195],\n",
              "         [ 0.39824498,  0.39824498,  0.39824498],\n",
              "         ...,\n",
              "         [ 0.29135317,  0.29135317,  0.29135317],\n",
              "         [ 0.3255427 ,  0.3255427 ,  0.3255427 ],\n",
              "         [ 0.25914633,  0.25914633,  0.25914633]],\n",
              "\n",
              "        ...,\n",
              "\n",
              "        [[ 0.        ,  0.        ,  0.        ],\n",
              "         [ 0.        ,  0.        ,  0.        ],\n",
              "         [ 0.        ,  0.        ,  0.        ],\n",
              "         ...,\n",
              "         [ 0.        ,  0.        ,  0.        ],\n",
              "         [ 0.        ,  0.        ,  0.        ],\n",
              "         [ 0.        ,  0.        ,  0.        ]],\n",
              "\n",
              "        [[ 0.        ,  0.        ,  0.        ],\n",
              "         [ 0.        ,  0.        ,  0.        ],\n",
              "         [ 0.        ,  0.        ,  0.        ],\n",
              "         ...,\n",
              "         [ 0.        ,  0.        ,  0.        ],\n",
              "         [ 0.        ,  0.        ,  0.        ],\n",
              "         [ 0.        ,  0.        ,  0.        ]],\n",
              "\n",
              "        [[ 0.        ,  0.        ,  0.        ],\n",
              "         [ 0.        ,  0.        ,  0.        ],\n",
              "         [ 0.        ,  0.        ,  0.        ],\n",
              "         ...,\n",
              "         [ 0.        ,  0.        ,  0.        ],\n",
              "         [ 0.        ,  0.        ,  0.        ],\n",
              "         [ 0.        ,  0.        ,  0.        ]]],\n",
              "\n",
              "\n",
              "       [[[ 0.08917344,  0.08917344,  0.08917344],\n",
              "         [ 0.20727664,  0.20727664,  0.20727664],\n",
              "         [ 0.08084106,  0.08084106,  0.08084106],\n",
              "         ...,\n",
              "         [-0.01558673, -0.01558673, -0.01558673],\n",
              "         [ 0.05161774,  0.05161774,  0.05161774],\n",
              "         [ 0.16730177,  0.16730177,  0.16730177]],\n",
              "\n",
              "        [[ 0.09962249,  0.09962249,  0.09962249],\n",
              "         [ 0.2057786 ,  0.2057786 ,  0.2057786 ],\n",
              "         [ 0.08742392,  0.08742392,  0.08742392],\n",
              "         ...,\n",
              "         [-0.0147227 , -0.0147227 , -0.0147227 ],\n",
              "         [ 0.04740757,  0.04740757,  0.04740757],\n",
              "         [ 0.16437364,  0.16437364,  0.16437364]],\n",
              "\n",
              "        [[ 0.11755574,  0.11755574,  0.11755574],\n",
              "         [ 0.2041161 ,  0.2041161 ,  0.2041161 ],\n",
              "         [ 0.09895921,  0.09895921,  0.09895921],\n",
              "         ...,\n",
              "         [-0.01339853, -0.01339853, -0.01339853],\n",
              "         [ 0.04076278,  0.04076278,  0.04076278],\n",
              "         [ 0.1600321 ,  0.1600321 ,  0.1600321 ]],\n",
              "\n",
              "        ...,\n",
              "\n",
              "        [[ 0.        ,  0.        ,  0.        ],\n",
              "         [ 0.        ,  0.        ,  0.        ],\n",
              "         [ 0.        ,  0.        ,  0.        ],\n",
              "         ...,\n",
              "         [ 0.        ,  0.        ,  0.        ],\n",
              "         [ 0.        ,  0.        ,  0.        ],\n",
              "         [ 0.        ,  0.        ,  0.        ]],\n",
              "\n",
              "        [[ 0.        ,  0.        ,  0.        ],\n",
              "         [ 0.        ,  0.        ,  0.        ],\n",
              "         [ 0.        ,  0.        ,  0.        ],\n",
              "         ...,\n",
              "         [ 0.        ,  0.        ,  0.        ],\n",
              "         [ 0.        ,  0.        ,  0.        ],\n",
              "         [ 0.        ,  0.        ,  0.        ]],\n",
              "\n",
              "        [[ 0.        ,  0.        ,  0.        ],\n",
              "         [ 0.        ,  0.        ,  0.        ],\n",
              "         [ 0.        ,  0.        ,  0.        ],\n",
              "         ...,\n",
              "         [ 0.        ,  0.        ,  0.        ],\n",
              "         [ 0.        ,  0.        ,  0.        ],\n",
              "         [ 0.        ,  0.        ,  0.        ]]]], dtype=float32)"
            ]
          },
          "metadata": {
            "tags": []
          },
          "execution_count": 8
        }
      ]
    },
    {
      "cell_type": "code",
      "metadata": {
        "id": "SWnkOKJDPnaP",
        "colab_type": "code",
        "colab": {}
      },
      "source": [
        "one_hot_labels_train = keras.utils.to_categorical(np.array(train_labels), num_classes=8)\n",
        "one_hot_labels_test = keras.utils.to_categorical(np.array(test_labels), num_classes=8)"
      ],
      "execution_count": 0,
      "outputs": []
    },
    {
      "cell_type": "code",
      "metadata": {
        "id": "TrsPH0yKPN1C",
        "colab_type": "code",
        "outputId": "d65aa351-efae-4842-d051-2804a77c54d3",
        "colab": {
          "base_uri": "https://localhost:8080/",
          "height": 790
        }
      },
      "source": [
        "base_model.trainable = False\n",
        "base_model.summary()"
      ],
      "execution_count": 0,
      "outputs": [
        {
          "output_type": "stream",
          "text": [
            "Model: \"vgg16\"\n",
            "_________________________________________________________________\n",
            "Layer (type)                 Output Shape              Param #   \n",
            "=================================================================\n",
            "input_1 (InputLayer)         [(None, 256, 256, 3)]     0         \n",
            "_________________________________________________________________\n",
            "block1_conv1 (Conv2D)        (None, 256, 256, 64)      1792      \n",
            "_________________________________________________________________\n",
            "block1_conv2 (Conv2D)        (None, 256, 256, 64)      36928     \n",
            "_________________________________________________________________\n",
            "block1_pool (MaxPooling2D)   (None, 128, 128, 64)      0         \n",
            "_________________________________________________________________\n",
            "block2_conv1 (Conv2D)        (None, 128, 128, 128)     73856     \n",
            "_________________________________________________________________\n",
            "block2_conv2 (Conv2D)        (None, 128, 128, 128)     147584    \n",
            "_________________________________________________________________\n",
            "block2_pool (MaxPooling2D)   (None, 64, 64, 128)       0         \n",
            "_________________________________________________________________\n",
            "block3_conv1 (Conv2D)        (None, 64, 64, 256)       295168    \n",
            "_________________________________________________________________\n",
            "block3_conv2 (Conv2D)        (None, 64, 64, 256)       590080    \n",
            "_________________________________________________________________\n",
            "block3_conv3 (Conv2D)        (None, 64, 64, 256)       590080    \n",
            "_________________________________________________________________\n",
            "block3_pool (MaxPooling2D)   (None, 32, 32, 256)       0         \n",
            "_________________________________________________________________\n",
            "block4_conv1 (Conv2D)        (None, 32, 32, 512)       1180160   \n",
            "_________________________________________________________________\n",
            "block4_conv2 (Conv2D)        (None, 32, 32, 512)       2359808   \n",
            "_________________________________________________________________\n",
            "block4_conv3 (Conv2D)        (None, 32, 32, 512)       2359808   \n",
            "_________________________________________________________________\n",
            "block4_pool (MaxPooling2D)   (None, 16, 16, 512)       0         \n",
            "_________________________________________________________________\n",
            "block5_conv1 (Conv2D)        (None, 16, 16, 512)       2359808   \n",
            "_________________________________________________________________\n",
            "block5_conv2 (Conv2D)        (None, 16, 16, 512)       2359808   \n",
            "_________________________________________________________________\n",
            "block5_conv3 (Conv2D)        (None, 16, 16, 512)       2359808   \n",
            "_________________________________________________________________\n",
            "block5_pool (MaxPooling2D)   (None, 8, 8, 512)         0         \n",
            "=================================================================\n",
            "Total params: 14,714,688\n",
            "Trainable params: 0\n",
            "Non-trainable params: 14,714,688\n",
            "_________________________________________________________________\n"
          ],
          "name": "stdout"
        }
      ]
    },
    {
      "cell_type": "code",
      "metadata": {
        "id": "aaM5OYF2PTEW",
        "colab_type": "code",
        "colab": {}
      },
      "source": [
        "model_2 = Sequential([\n",
        "    base_model,\n",
        "    Flatten(),\n",
        "    Dense(512, activation='relu'),\n",
        "    Dropout(0.5, noise_shape=None, seed=None),\n",
        "    Dense(512, activation='relu'),\n",
        "    Dropout(0.5, noise_shape=None, seed=None),\n",
        "    Dense(8, activation='sigmoid')\n",
        "    # put 6(no. of output)\n",
        "])"
      ],
      "execution_count": 0,
      "outputs": []
    },
    {
      "cell_type": "code",
      "metadata": {
        "id": "1LFb9LtsPYj9",
        "colab_type": "code",
        "colab": {}
      },
      "source": [
        "from tensorflow.keras.optimizers import RMSprop, SGD\n",
        "\n",
        "opt = SGD(lr=0.000001)\n",
        "\n",
        "model_2.compile(loss='categorical_crossentropy',\n",
        "              optimizer=optimizers.RMSprop(lr=1e-4),\n",
        "              metrics=['acc'])"
      ],
      "execution_count": 0,
      "outputs": []
    },
    {
      "cell_type": "code",
      "metadata": {
        "id": "c60I8wokPcn1",
        "colab_type": "code",
        "outputId": "1b542fd5-133c-4f62-9994-d840fcb74db3",
        "colab": {
          "base_uri": "https://localhost:8080/",
          "height": 1000
        }
      },
      "source": [
        "history = model_2.fit(np.array(train_2),one_hot_labels_train, epochs=50, batch_size=16, validation_data = (np.array(test_2),one_hot_labels_test), shuffle = True)"
      ],
      "execution_count": 0,
      "outputs": [
        {
          "output_type": "stream",
          "text": [
            "WARNING:tensorflow:From /usr/local/lib/python3.6/dist-packages/tensorflow_core/python/ops/math_grad.py:1424: where (from tensorflow.python.ops.array_ops) is deprecated and will be removed in a future version.\n",
            "Instructions for updating:\n",
            "Use tf.where in 2.0, which has the same broadcast rule as np.where\n",
            "Train on 1560 samples, validate on 476 samples\n",
            "Epoch 1/50\n",
            "1560/1560 [==============================] - 31s 20ms/sample - loss: 2.0987 - acc: 0.1660 - val_loss: 1.9527 - val_acc: 0.2647\n",
            "Epoch 2/50\n",
            "1560/1560 [==============================] - 23s 15ms/sample - loss: 1.9628 - acc: 0.2186 - val_loss: 1.8384 - val_acc: 0.3109\n",
            "Epoch 3/50\n",
            "1560/1560 [==============================] - 23s 15ms/sample - loss: 1.8483 - acc: 0.2513 - val_loss: 1.7143 - val_acc: 0.3676\n",
            "Epoch 4/50\n",
            "1560/1560 [==============================] - 23s 15ms/sample - loss: 1.7597 - acc: 0.3013 - val_loss: 1.6456 - val_acc: 0.3529\n",
            "Epoch 5/50\n",
            "1560/1560 [==============================] - 23s 15ms/sample - loss: 1.6590 - acc: 0.3385 - val_loss: 1.5374 - val_acc: 0.4202\n",
            "Epoch 6/50\n",
            "1560/1560 [==============================] - 23s 15ms/sample - loss: 1.6126 - acc: 0.3641 - val_loss: 1.4820 - val_acc: 0.4685\n",
            "Epoch 7/50\n",
            "1560/1560 [==============================] - 23s 15ms/sample - loss: 1.5428 - acc: 0.3853 - val_loss: 1.4318 - val_acc: 0.4769\n",
            "Epoch 8/50\n",
            "1560/1560 [==============================] - 23s 15ms/sample - loss: 1.4394 - acc: 0.4404 - val_loss: 1.4545 - val_acc: 0.4580\n",
            "Epoch 9/50\n",
            "1560/1560 [==============================] - 23s 15ms/sample - loss: 1.3987 - acc: 0.4609 - val_loss: 1.3353 - val_acc: 0.5189\n",
            "Epoch 10/50\n",
            "1560/1560 [==============================] - 23s 15ms/sample - loss: 1.3408 - acc: 0.4827 - val_loss: 1.2775 - val_acc: 0.5273\n",
            "Epoch 11/50\n",
            "1560/1560 [==============================] - 23s 15ms/sample - loss: 1.2508 - acc: 0.5122 - val_loss: 1.2189 - val_acc: 0.5399\n",
            "Epoch 12/50\n",
            "1560/1560 [==============================] - 23s 15ms/sample - loss: 1.1820 - acc: 0.5468 - val_loss: 1.2005 - val_acc: 0.5441\n",
            "Epoch 13/50\n",
            "1560/1560 [==============================] - 23s 15ms/sample - loss: 1.1622 - acc: 0.5647 - val_loss: 1.1459 - val_acc: 0.5651\n",
            "Epoch 14/50\n",
            "1560/1560 [==============================] - 23s 15ms/sample - loss: 1.0738 - acc: 0.5808 - val_loss: 1.1896 - val_acc: 0.5651\n",
            "Epoch 15/50\n",
            "1560/1560 [==============================] - 23s 15ms/sample - loss: 1.0413 - acc: 0.6122 - val_loss: 1.1907 - val_acc: 0.5525\n",
            "Epoch 16/50\n",
            "1560/1560 [==============================] - 23s 15ms/sample - loss: 1.0059 - acc: 0.6038 - val_loss: 1.1267 - val_acc: 0.5756\n",
            "Epoch 17/50\n",
            "1560/1560 [==============================] - 23s 15ms/sample - loss: 0.9444 - acc: 0.6545 - val_loss: 1.1437 - val_acc: 0.5567\n",
            "Epoch 18/50\n",
            "1560/1560 [==============================] - 23s 15ms/sample - loss: 0.9026 - acc: 0.6654 - val_loss: 1.1059 - val_acc: 0.5651\n",
            "Epoch 19/50\n",
            "1560/1560 [==============================] - 23s 15ms/sample - loss: 0.8253 - acc: 0.6962 - val_loss: 1.1356 - val_acc: 0.5483\n",
            "Epoch 20/50\n",
            "1560/1560 [==============================] - 23s 15ms/sample - loss: 0.8244 - acc: 0.6968 - val_loss: 1.0860 - val_acc: 0.5819\n",
            "Epoch 21/50\n",
            "1560/1560 [==============================] - 23s 15ms/sample - loss: 0.7850 - acc: 0.7141 - val_loss: 1.1490 - val_acc: 0.5504\n",
            "Epoch 22/50\n",
            "1560/1560 [==============================] - 23s 15ms/sample - loss: 0.7294 - acc: 0.7308 - val_loss: 1.1075 - val_acc: 0.5756\n",
            "Epoch 23/50\n",
            "1560/1560 [==============================] - 23s 15ms/sample - loss: 0.6997 - acc: 0.7481 - val_loss: 1.0957 - val_acc: 0.5945\n",
            "Epoch 24/50\n",
            "1560/1560 [==============================] - 23s 15ms/sample - loss: 0.6653 - acc: 0.7526 - val_loss: 1.0686 - val_acc: 0.6029\n",
            "Epoch 25/50\n",
            "1560/1560 [==============================] - 23s 15ms/sample - loss: 0.6339 - acc: 0.7660 - val_loss: 1.0853 - val_acc: 0.6134\n",
            "Epoch 26/50\n",
            "1560/1560 [==============================] - 23s 15ms/sample - loss: 0.5924 - acc: 0.7840 - val_loss: 1.1417 - val_acc: 0.6071\n",
            "Epoch 27/50\n",
            "1560/1560 [==============================] - 23s 15ms/sample - loss: 0.5908 - acc: 0.7904 - val_loss: 1.1718 - val_acc: 0.5714\n",
            "Epoch 28/50\n",
            "1560/1560 [==============================] - 23s 15ms/sample - loss: 0.5847 - acc: 0.7929 - val_loss: 1.1857 - val_acc: 0.5882\n",
            "Epoch 29/50\n",
            "1560/1560 [==============================] - 23s 15ms/sample - loss: 0.5577 - acc: 0.7917 - val_loss: 1.2603 - val_acc: 0.5651\n",
            "Epoch 30/50\n",
            "1560/1560 [==============================] - 23s 15ms/sample - loss: 0.5215 - acc: 0.7949 - val_loss: 1.1919 - val_acc: 0.5966\n",
            "Epoch 31/50\n",
            "1560/1560 [==============================] - 23s 15ms/sample - loss: 0.4882 - acc: 0.8224 - val_loss: 1.1897 - val_acc: 0.6050\n",
            "Epoch 32/50\n",
            "1560/1560 [==============================] - 23s 15ms/sample - loss: 0.4781 - acc: 0.8237 - val_loss: 1.3863 - val_acc: 0.5315\n",
            "Epoch 33/50\n",
            "1560/1560 [==============================] - 23s 15ms/sample - loss: 0.4556 - acc: 0.8346 - val_loss: 1.2159 - val_acc: 0.6008\n",
            "Epoch 34/50\n",
            "1560/1560 [==============================] - 23s 15ms/sample - loss: 0.4331 - acc: 0.8282 - val_loss: 1.2310 - val_acc: 0.5966\n",
            "Epoch 35/50\n",
            "1560/1560 [==============================] - 23s 15ms/sample - loss: 0.4084 - acc: 0.8558 - val_loss: 1.3511 - val_acc: 0.5756\n",
            "Epoch 36/50\n",
            "1560/1560 [==============================] - 23s 15ms/sample - loss: 0.3952 - acc: 0.8622 - val_loss: 1.2819 - val_acc: 0.5756\n",
            "Epoch 37/50\n",
            "1560/1560 [==============================] - 23s 15ms/sample - loss: 0.3964 - acc: 0.8583 - val_loss: 1.2734 - val_acc: 0.5924\n",
            "Epoch 38/50\n",
            "1560/1560 [==============================] - 23s 15ms/sample - loss: 0.3714 - acc: 0.8628 - val_loss: 1.3787 - val_acc: 0.5777\n",
            "Epoch 39/50\n",
            "1560/1560 [==============================] - 23s 15ms/sample - loss: 0.3641 - acc: 0.8628 - val_loss: 1.2695 - val_acc: 0.5903\n",
            "Epoch 40/50\n",
            "1560/1560 [==============================] - 23s 15ms/sample - loss: 0.3369 - acc: 0.8814 - val_loss: 1.3964 - val_acc: 0.5714\n",
            "Epoch 41/50\n",
            "1560/1560 [==============================] - 23s 15ms/sample - loss: 0.3233 - acc: 0.8923 - val_loss: 1.5685 - val_acc: 0.5693\n",
            "Epoch 42/50\n",
            "1560/1560 [==============================] - 23s 15ms/sample - loss: 0.3014 - acc: 0.8878 - val_loss: 1.5650 - val_acc: 0.5840\n",
            "Epoch 43/50\n",
            "1560/1560 [==============================] - 23s 15ms/sample - loss: 0.2964 - acc: 0.8929 - val_loss: 1.5818 - val_acc: 0.5693\n",
            "Epoch 44/50\n",
            "1560/1560 [==============================] - 23s 15ms/sample - loss: 0.2856 - acc: 0.9038 - val_loss: 1.6706 - val_acc: 0.5567\n",
            "Epoch 45/50\n",
            "1560/1560 [==============================] - 23s 15ms/sample - loss: 0.2920 - acc: 0.8974 - val_loss: 1.4919 - val_acc: 0.5651\n",
            "Epoch 46/50\n",
            "1560/1560 [==============================] - 23s 15ms/sample - loss: 0.2488 - acc: 0.9128 - val_loss: 1.7417 - val_acc: 0.5966\n",
            "Epoch 47/50\n",
            "1560/1560 [==============================] - 23s 15ms/sample - loss: 0.2628 - acc: 0.9077 - val_loss: 1.6134 - val_acc: 0.5903\n",
            "Epoch 48/50\n",
            "1560/1560 [==============================] - 23s 15ms/sample - loss: 0.2684 - acc: 0.9038 - val_loss: 1.5499 - val_acc: 0.5945\n",
            "Epoch 49/50\n",
            "1560/1560 [==============================] - 23s 15ms/sample - loss: 0.2432 - acc: 0.9186 - val_loss: 1.5150 - val_acc: 0.6008\n",
            "Epoch 50/50\n",
            "1560/1560 [==============================] - 23s 15ms/sample - loss: 0.2409 - acc: 0.9173 - val_loss: 1.4919 - val_acc: 0.6218\n"
          ],
          "name": "stdout"
        }
      ]
    },
    {
      "cell_type": "code",
      "metadata": {
        "id": "gMXwwj68hlj-",
        "colab_type": "code",
        "outputId": "0f928874-9809-4c12-aaa8-05f7b9b3d434",
        "colab": {
          "base_uri": "https://localhost:8080/",
          "height": 295
        }
      },
      "source": [
        "# Plot training & validation loss values\n",
        "plt.plot(history.history['loss'])\n",
        "plt.plot(history.history['val_loss'])\n",
        "plt.title('Model loss')\n",
        "plt.ylabel('Loss')\n",
        "plt.xlabel('Epoch')\n",
        "plt.legend(['Train', 'Test'], loc='upper left')\n",
        "plt.show()"
      ],
      "execution_count": 0,
      "outputs": [
        {
          "output_type": "display_data",
          "data": {
            "image/png": "[encoded data removed]",
            "text/plain": [
              "<Figure size 432x288 with 1 Axes>"
            ]
          },
          "metadata": {
            "tags": []
          }
        }
      ]
    },
    {
      "cell_type": "code",
      "metadata": {
        "id": "4NiKRGYxh1gf",
        "colab_type": "code",
        "outputId": "1bac09fc-57dc-4e94-a3b7-905b1bc2a23e",
        "colab": {
          "base_uri": "https://localhost:8080/",
          "height": 295
        }
      },
      "source": [
        "# Plot training & validation acc\n",
        "plt.plot(history.history['acc'])\n",
        "plt.plot(history.history['val_acc'])\n",
        "plt.title('Acc')\n",
        "plt.ylabel('Acc')\n",
        "plt.xlabel('Epoch')\n",
        "plt.legend(['Train', 'Test'], loc='upper left')\n",
        "plt.show()"
      ],
      "execution_count": 0,
      "outputs": [
        {
          "output_type": "display_data",
          "data": {
            "image/png": "[encoded data removed]",
            "text/plain": [
              "<Figure size 432x288 with 1 Axes>"
            ]
          },
          "metadata": {
            "tags": []
          }
        }
      ]
    },
    {
      "cell_type": "code",
      "metadata": {
        "id": "REOx1Y8biHbd",
        "colab_type": "code",
        "colab": {}
      },
      "source": [
        "y_pred = model_2.predict(np.array(test_2))"
      ],
      "execution_count": 0,
      "outputs": []
    },
    {
      "cell_type": "code",
      "metadata": {
        "id": "8Kts9JqBibaA",
        "colab_type": "code",
        "colab": {}
      },
      "source": [
        "C = tf.math.confusion_matrix(\n",
        "    np.array(test_labels),\n",
        "    np.argmax(y_pred, axis = -1),\n",
        "    num_classes=8,\n",
        "    weights=None,\n",
        "    dtype=tf.dtypes.int64,\n",
        "    name=None\n",
        ")"
      ],
      "execution_count": 0,
      "outputs": []
    },
    {
      "cell_type": "code",
      "metadata": {
        "id": "yVPh5zTr1RJ4",
        "colab_type": "code",
        "outputId": "cdc82b28-28cf-4752-8ed1-074bb510defe",
        "colab": {
          "base_uri": "https://localhost:8080/",
          "height": 185
        }
      },
      "source": [
        "with tf.Session():\n",
        "   print('Confusion Matrix: \\n\\n', tf.Tensor.eval(C,feed_dict=None, session=None))"
      ],
      "execution_count": 21,
      "outputs": [
        {
          "output_type": "stream",
          "text": [
            "Confusion Matrix: \n",
            "\n",
            " [[21 12  1  2  0  0  0  0]\n",
            " [ 6 46  1 19  0  0  0  0]\n",
            " [ 4  5 31  7  6  8  4  7]\n",
            " [ 5 15  2 35  1 11  3  0]\n",
            " [ 2  2  7  3 51  1  2  4]\n",
            " [ 0  2  5  8  1 49  1  6]\n",
            " [ 0  0  1  0  2  0 34  3]\n",
            " [ 0  0  3  1  1  4  2 29]]\n"
          ],
          "name": "stdout"
        }
      ]
    },
    {
      "cell_type": "code",
      "metadata": {
        "id": "4xLmcdcI6vSl",
        "colab_type": "code",
        "colab": {}
      },
      "source": [
        "from sklearn.preprocessing import normalize\n",
        "with tf.Session():\n",
        "  normed_matrix = normalize(tf.Tensor.eval(C,feed_dict=None, session=None), axis=1, norm='l1')"
      ],
      "execution_count": 0,
      "outputs": []
    },
    {
      "cell_type": "code",
      "metadata": {
        "id": "DgDYjRgE6-NV",
        "colab_type": "code",
        "colab": {
          "base_uri": "https://localhost:8080/",
          "height": 286
        },
        "outputId": "b6888e65-00e1-4ba4-bbb7-eeb787cce1f9"
      },
      "source": [
        "normed_matrix"
      ],
      "execution_count": 23,
      "outputs": [
        {
          "output_type": "execute_result",
          "data": {
            "text/plain": [
              "array([[0.58333333, 0.33333333, 0.02777778, 0.05555556, 0.        ,\n",
              "        0.        , 0.        , 0.        ],\n",
              "       [0.08333333, 0.63888889, 0.01388889, 0.26388889, 0.        ,\n",
              "        0.        , 0.        , 0.        ],\n",
              "       [0.05555556, 0.06944444, 0.43055556, 0.09722222, 0.08333333,\n",
              "        0.11111111, 0.05555556, 0.09722222],\n",
              "       [0.06944444, 0.20833333, 0.02777778, 0.48611111, 0.01388889,\n",
              "        0.15277778, 0.04166667, 0.        ],\n",
              "       [0.02777778, 0.02777778, 0.09722222, 0.04166667, 0.70833333,\n",
              "        0.01388889, 0.02777778, 0.05555556],\n",
              "       [0.        , 0.02777778, 0.06944444, 0.11111111, 0.01388889,\n",
              "        0.68055556, 0.01388889, 0.08333333],\n",
              "       [0.        , 0.        , 0.025     , 0.        , 0.05      ,\n",
              "        0.        , 0.85      , 0.075     ],\n",
              "       [0.        , 0.        , 0.075     , 0.025     , 0.025     ,\n",
              "        0.1       , 0.05      , 0.725     ]])"
            ]
          },
          "metadata": {
            "tags": []
          },
          "execution_count": 23
        }
      ]
    }
  ]
}
