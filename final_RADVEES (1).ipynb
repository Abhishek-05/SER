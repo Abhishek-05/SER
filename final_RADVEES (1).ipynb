{
 "cells": [
  {
   "cell_type": "code",
   "execution_count": 0,
   "metadata": {
    "colab": {},
    "colab_type": "code",
    "id": "IXQEgdVjJZmI"
   },
   "outputs": [],
   "source": [
    "import os\n",
    "import numpy as np\n",
    "from PIL import Image\n",
    "import cv2\n"
   ]
  },
  {
   "cell_type": "code",
   "execution_count": 0,
   "metadata": {
    "colab": {},
    "colab_type": "code",
    "id": "MZK5agNmJtuF"
   },
   "outputs": [],
   "source": [
    "import tensorflow as tf\n",
    "from tensorflow import keras\n",
    "from tensorflow.keras import layers\n",
    "from tensorflow.keras import models\n",
    "from tensorflow.keras.layers import ReLU\n",
    "from tensorflow.keras import optimizers\n",
    "import librosa\n",
    "import librosa.display\n",
    "import pylab\n",
    "import matplotlib.pyplot as plt\n",
    "from matplotlib import figure\n",
    "from tensorflow.keras.models import Sequential\n",
    "from tensorflow.keras.layers import Dense, Conv2D, Flatten, Dropout, MaxPooling2D"
   ]
  },
  {
   "cell_type": "code",
   "execution_count": 72,
   "metadata": {
    "colab": {
     "base_uri": "https://localhost:8080/",
     "height": 34
    },
    "colab_type": "code",
    "id": "-R9X06R3KhdB",
    "outputId": "6ef09873-2948-4ef6-dd87-ac3dd535535a"
   },
   "outputs": [
    {
     "name": "stdout",
     "output_type": "stream",
     "text": [
      "Drive already mounted at /content/drive; to attempt to forcibly remount, call drive.mount(\"/content/drive\", force_remount=True).\n"
     ]
    }
   ],
   "source": [
    "from google.colab import drive\n",
    "drive.mount('/content/drive')"
   ]
  },
  {
   "cell_type": "code",
   "execution_count": 0,
   "metadata": {
    "colab": {},
    "colab_type": "code",
    "id": "TCMy4UnbKt7D"
   },
   "outputs": [],
   "source": [
    "train = np.load('drive/My Drive/train.npy')\n",
    "test = np.load('drive/My Drive/test.npy')\n",
    "train_labels = np.load('drive/My Drive/train_labels.npy')\n",
    "test_labels = np.load('drive/My Drive/test_labels.npy')"
   ]
  },
  {
   "cell_type": "code",
   "execution_count": 0,
   "metadata": {
    "colab": {},
    "colab_type": "code",
    "id": "SWnkOKJDPnaP"
   },
   "outputs": [],
   "source": [
    "one_hot_labels_train = keras.utils.to_categorical(np.array(train_labels), num_classes=8)\n",
    "one_hot_labels_test = keras.utils.to_categorical(np.array(test_labels), num_classes=8)"
   ]
  },
  {
   "cell_type": "code",
   "execution_count": 0,
   "metadata": {
    "colab": {},
    "colab_type": "code",
    "id": "a17B_nXbK1vA"
   },
   "outputs": [],
   "source": [
    "model = Sequential([\n",
    "    Conv2D(30, kernel_size=(11, 11), strides=4, padding='same', activation='relu', input_shape=(256, 256, 1)),#C1\n",
    "    ReLU(max_value=None, negative_slope=0.0, threshold=0.0),\n",
    "    MaxPooling2D(pool_size=(3, 3), strides=2, padding='valid', data_format=None),\n",
    "    Conv2D(64, kernel_size=(5, 5), strides=1, padding='same', activation='relu'),#C2\n",
    "    Conv2D(96, kernel_size=(3, 3), strides=1, padding='same', activation='relu'),#C3\n",
    "    Flatten(),\n",
    "    Dense(512, activation='relu'),\n",
    "    Dropout(0.5, noise_shape=None, seed=None),\n",
    "    Dense(512, activation='relu'),\n",
    "    Dropout(0.5, noise_shape=None, seed=None),\n",
    "    Dense(8, activation='sigmoid')\n",
    "    # put 6(no. of output)\n",
    "])"
   ]
  },
  {
   "cell_type": "code",
   "execution_count": 0,
   "metadata": {
    "colab": {},
    "colab_type": "code",
    "id": "gvOHnkVPLMj_"
   },
   "outputs": [],
   "source": [
    "model.compile(optimizer='sgd',\n",
    "              loss='categorical_crossentropy',\n",
    "              metrics=['accuracy'])"
   ]
  },
  {
   "cell_type": "code",
   "execution_count": 77,
   "metadata": {
    "colab": {
     "base_uri": "https://localhost:8080/",
     "height": 1000
    },
    "colab_type": "code",
    "id": "c60I8wokPcn1",
    "outputId": "20596004-54a8-4e68-cbf9-2aab2508521c"
   },
   "outputs": [
    {
     "name": "stdout",
     "output_type": "stream",
     "text": [
      "Train on 1560 samples, validate on 476 samples\n",
      "Epoch 1/100\n",
      "1560/1560 [==============================] - 2s 1ms/sample - loss: 2.0569 - acc: 0.1513 - val_loss: 2.0412 - val_acc: 0.1513\n",
      "Epoch 2/100\n",
      "1560/1560 [==============================] - 1s 812us/sample - loss: 2.0472 - acc: 0.1583 - val_loss: 2.0395 - val_acc: 0.1513\n",
      "Epoch 3/100\n",
      "1560/1560 [==============================] - 1s 793us/sample - loss: 2.0428 - acc: 0.1596 - val_loss: 2.0388 - val_acc: 0.1513\n",
      "Epoch 4/100\n",
      "1560/1560 [==============================] - 1s 809us/sample - loss: 2.0407 - acc: 0.1481 - val_loss: 2.0390 - val_acc: 0.1471\n",
      "Epoch 5/100\n",
      "1560/1560 [==============================] - 1s 791us/sample - loss: 2.0449 - acc: 0.1513 - val_loss: 2.0431 - val_acc: 0.1618\n",
      "Epoch 6/100\n",
      "1560/1560 [==============================] - 1s 838us/sample - loss: 2.0376 - acc: 0.1481 - val_loss: 2.0371 - val_acc: 0.1975\n",
      "Epoch 7/100\n",
      "1560/1560 [==============================] - 1s 819us/sample - loss: 2.0373 - acc: 0.1583 - val_loss: 2.0366 - val_acc: 0.1513\n",
      "Epoch 8/100\n",
      "1560/1560 [==============================] - 1s 797us/sample - loss: 2.0366 - acc: 0.1551 - val_loss: 2.0354 - val_acc: 0.2101\n",
      "Epoch 9/100\n",
      "1560/1560 [==============================] - 1s 788us/sample - loss: 2.0311 - acc: 0.1596 - val_loss: 2.0325 - val_acc: 0.1555\n",
      "Epoch 10/100\n",
      "1560/1560 [==============================] - 1s 783us/sample - loss: 2.0267 - acc: 0.1615 - val_loss: 2.0358 - val_acc: 0.1870\n",
      "Epoch 11/100\n",
      "1560/1560 [==============================] - 1s 805us/sample - loss: 2.0227 - acc: 0.1519 - val_loss: 2.0206 - val_acc: 0.1534\n",
      "Epoch 12/100\n",
      "1560/1560 [==============================] - 1s 774us/sample - loss: 2.0102 - acc: 0.1603 - val_loss: 2.0180 - val_acc: 0.2143\n",
      "Epoch 13/100\n",
      "1560/1560 [==============================] - 1s 789us/sample - loss: 1.9909 - acc: 0.1699 - val_loss: 1.9990 - val_acc: 0.2374\n",
      "Epoch 14/100\n",
      "1560/1560 [==============================] - 1s 796us/sample - loss: 1.9725 - acc: 0.1865 - val_loss: 1.9731 - val_acc: 0.1828\n",
      "Epoch 15/100\n",
      "1560/1560 [==============================] - 1s 789us/sample - loss: 1.9484 - acc: 0.1968 - val_loss: 2.0357 - val_acc: 0.1597\n",
      "Epoch 16/100\n",
      "1560/1560 [==============================] - 1s 777us/sample - loss: 1.9275 - acc: 0.2026 - val_loss: 1.9388 - val_acc: 0.2038\n",
      "Epoch 17/100\n",
      "1560/1560 [==============================] - 1s 777us/sample - loss: 1.8968 - acc: 0.2378 - val_loss: 1.9141 - val_acc: 0.2374\n",
      "Epoch 18/100\n",
      "1560/1560 [==============================] - 1s 774us/sample - loss: 1.8693 - acc: 0.2436 - val_loss: 1.8823 - val_acc: 0.2353\n",
      "Epoch 19/100\n",
      "1560/1560 [==============================] - 1s 770us/sample - loss: 1.8539 - acc: 0.2474 - val_loss: 1.8701 - val_acc: 0.2626\n",
      "Epoch 20/100\n",
      "1560/1560 [==============================] - 1s 766us/sample - loss: 1.8054 - acc: 0.2609 - val_loss: 1.8401 - val_acc: 0.2542\n",
      "Epoch 21/100\n",
      "1560/1560 [==============================] - 1s 789us/sample - loss: 1.7954 - acc: 0.2859 - val_loss: 1.7890 - val_acc: 0.2962\n",
      "Epoch 22/100\n",
      "1560/1560 [==============================] - 1s 814us/sample - loss: 1.7377 - acc: 0.3141 - val_loss: 1.8968 - val_acc: 0.2815\n",
      "Epoch 23/100\n",
      "1560/1560 [==============================] - 1s 818us/sample - loss: 1.7206 - acc: 0.2987 - val_loss: 1.7362 - val_acc: 0.3403\n",
      "Epoch 24/100\n",
      "1560/1560 [==============================] - 1s 780us/sample - loss: 1.6840 - acc: 0.3295 - val_loss: 1.7308 - val_acc: 0.3298\n",
      "Epoch 25/100\n",
      "1560/1560 [==============================] - 1s 808us/sample - loss: 1.6368 - acc: 0.3564 - val_loss: 1.6526 - val_acc: 0.3655\n",
      "Epoch 26/100\n",
      "1560/1560 [==============================] - 1s 796us/sample - loss: 1.5759 - acc: 0.3910 - val_loss: 1.6207 - val_acc: 0.3971\n",
      "Epoch 27/100\n",
      "1560/1560 [==============================] - 1s 782us/sample - loss: 1.5500 - acc: 0.3840 - val_loss: 1.5829 - val_acc: 0.3845\n",
      "Epoch 28/100\n",
      "1560/1560 [==============================] - 1s 801us/sample - loss: 1.4998 - acc: 0.4141 - val_loss: 1.5514 - val_acc: 0.3929\n",
      "Epoch 29/100\n",
      "1560/1560 [==============================] - 1s 779us/sample - loss: 1.4658 - acc: 0.4333 - val_loss: 1.5505 - val_acc: 0.3761\n",
      "Epoch 30/100\n",
      "1560/1560 [==============================] - 1s 769us/sample - loss: 1.3964 - acc: 0.4603 - val_loss: 1.4875 - val_acc: 0.4454\n",
      "Epoch 31/100\n",
      "1560/1560 [==============================] - 1s 774us/sample - loss: 1.3716 - acc: 0.4782 - val_loss: 1.5218 - val_acc: 0.4055\n",
      "Epoch 32/100\n",
      "1560/1560 [==============================] - 1s 778us/sample - loss: 1.3112 - acc: 0.4872 - val_loss: 1.5571 - val_acc: 0.3866\n",
      "Epoch 33/100\n",
      "1560/1560 [==============================] - 1s 772us/sample - loss: 1.2795 - acc: 0.4904 - val_loss: 1.6902 - val_acc: 0.3739\n",
      "Epoch 34/100\n",
      "1560/1560 [==============================] - 1s 775us/sample - loss: 1.2241 - acc: 0.5135 - val_loss: 1.4626 - val_acc: 0.4118\n",
      "Epoch 35/100\n",
      "1560/1560 [==============================] - 1s 768us/sample - loss: 1.1730 - acc: 0.5494 - val_loss: 1.4350 - val_acc: 0.4412\n",
      "Epoch 36/100\n",
      "1560/1560 [==============================] - 1s 790us/sample - loss: 1.1366 - acc: 0.5744 - val_loss: 1.4478 - val_acc: 0.4601\n",
      "Epoch 37/100\n",
      "1560/1560 [==============================] - 1s 794us/sample - loss: 1.0812 - acc: 0.5814 - val_loss: 1.2639 - val_acc: 0.5525\n",
      "Epoch 38/100\n",
      "1560/1560 [==============================] - 1s 769us/sample - loss: 1.0069 - acc: 0.6192 - val_loss: 1.2576 - val_acc: 0.5294\n",
      "Epoch 39/100\n",
      "1560/1560 [==============================] - 1s 796us/sample - loss: 0.9561 - acc: 0.6314 - val_loss: 1.3714 - val_acc: 0.5210\n",
      "Epoch 40/100\n",
      "1560/1560 [==============================] - 1s 805us/sample - loss: 0.8891 - acc: 0.6622 - val_loss: 1.3118 - val_acc: 0.5252\n",
      "Epoch 41/100\n",
      "1560/1560 [==============================] - 1s 801us/sample - loss: 0.8441 - acc: 0.6808 - val_loss: 1.3313 - val_acc: 0.5315\n",
      "Epoch 42/100\n",
      "1560/1560 [==============================] - 1s 783us/sample - loss: 0.7778 - acc: 0.7122 - val_loss: 1.3697 - val_acc: 0.5336\n",
      "Epoch 43/100\n",
      "1560/1560 [==============================] - 1s 786us/sample - loss: 0.7302 - acc: 0.7263 - val_loss: 1.4475 - val_acc: 0.5105\n",
      "Epoch 44/100\n",
      "1560/1560 [==============================] - 1s 783us/sample - loss: 0.6918 - acc: 0.7551 - val_loss: 1.5565 - val_acc: 0.5483\n",
      "Epoch 45/100\n",
      "1560/1560 [==============================] - 1s 767us/sample - loss: 0.6429 - acc: 0.7679 - val_loss: 1.3893 - val_acc: 0.5147\n",
      "Epoch 46/100\n",
      "1560/1560 [==============================] - 1s 793us/sample - loss: 0.5664 - acc: 0.7923 - val_loss: 1.4342 - val_acc: 0.5420\n",
      "Epoch 47/100\n",
      "1560/1560 [==============================] - 1s 803us/sample - loss: 0.5118 - acc: 0.8173 - val_loss: 1.6071 - val_acc: 0.5084\n",
      "Epoch 48/100\n",
      "1560/1560 [==============================] - 1s 781us/sample - loss: 0.4742 - acc: 0.8308 - val_loss: 1.4338 - val_acc: 0.5588\n",
      "Epoch 49/100\n",
      "1560/1560 [==============================] - 1s 778us/sample - loss: 0.4441 - acc: 0.8288 - val_loss: 1.3144 - val_acc: 0.5903\n",
      "Epoch 50/100\n",
      "1560/1560 [==============================] - 1s 793us/sample - loss: 0.3887 - acc: 0.8577 - val_loss: 1.8086 - val_acc: 0.5378\n",
      "Epoch 51/100\n",
      "1560/1560 [==============================] - 1s 798us/sample - loss: 0.3685 - acc: 0.8718 - val_loss: 1.4292 - val_acc: 0.5945\n",
      "Epoch 52/100\n",
      "1560/1560 [==============================] - 1s 808us/sample - loss: 0.3273 - acc: 0.8833 - val_loss: 1.7662 - val_acc: 0.5000\n",
      "Epoch 53/100\n",
      "1560/1560 [==============================] - 1s 791us/sample - loss: 0.2983 - acc: 0.8872 - val_loss: 1.6021 - val_acc: 0.5693\n",
      "Epoch 54/100\n",
      "1560/1560 [==============================] - 1s 813us/sample - loss: 0.2545 - acc: 0.9122 - val_loss: 1.8847 - val_acc: 0.5504\n",
      "Epoch 55/100\n",
      "1560/1560 [==============================] - 1s 786us/sample - loss: 0.2600 - acc: 0.9064 - val_loss: 1.7098 - val_acc: 0.5609\n",
      "Epoch 56/100\n",
      "1560/1560 [==============================] - 1s 778us/sample - loss: 0.2240 - acc: 0.9295 - val_loss: 1.6601 - val_acc: 0.5903\n",
      "Epoch 57/100\n",
      "1560/1560 [==============================] - 1s 790us/sample - loss: 0.1908 - acc: 0.9276 - val_loss: 1.8962 - val_acc: 0.5462\n",
      "Epoch 58/100\n",
      "1560/1560 [==============================] - 1s 799us/sample - loss: 0.1782 - acc: 0.9378 - val_loss: 1.6318 - val_acc: 0.5987\n",
      "Epoch 59/100\n",
      "1560/1560 [==============================] - 1s 768us/sample - loss: 0.1576 - acc: 0.9481 - val_loss: 1.8019 - val_acc: 0.5756\n",
      "Epoch 60/100\n",
      "1560/1560 [==============================] - 1s 771us/sample - loss: 0.1481 - acc: 0.9500 - val_loss: 2.0971 - val_acc: 0.5651\n",
      "Epoch 61/100\n",
      "1560/1560 [==============================] - 1s 781us/sample - loss: 0.1277 - acc: 0.9532 - val_loss: 1.7422 - val_acc: 0.5861\n",
      "Epoch 62/100\n",
      "1560/1560 [==============================] - 1s 800us/sample - loss: 0.1319 - acc: 0.9513 - val_loss: 2.4814 - val_acc: 0.5252\n",
      "Epoch 63/100\n",
      "1560/1560 [==============================] - 1s 777us/sample - loss: 0.1264 - acc: 0.9526 - val_loss: 1.9107 - val_acc: 0.5756\n",
      "Epoch 64/100\n",
      "1560/1560 [==============================] - 1s 794us/sample - loss: 0.0910 - acc: 0.9718 - val_loss: 1.9310 - val_acc: 0.5861\n",
      "Epoch 65/100\n",
      "1560/1560 [==============================] - 1s 769us/sample - loss: 0.1220 - acc: 0.9641 - val_loss: 1.9736 - val_acc: 0.5777\n",
      "Epoch 66/100\n",
      "1560/1560 [==============================] - 1s 802us/sample - loss: 0.0962 - acc: 0.9647 - val_loss: 1.8072 - val_acc: 0.5882\n",
      "Epoch 67/100\n",
      "1560/1560 [==============================] - 1s 790us/sample - loss: 0.0859 - acc: 0.9699 - val_loss: 2.1076 - val_acc: 0.5777\n",
      "Epoch 68/100\n",
      "1560/1560 [==============================] - 1s 786us/sample - loss: 0.1152 - acc: 0.9628 - val_loss: 1.9304 - val_acc: 0.5840\n",
      "Epoch 69/100\n",
      "1560/1560 [==============================] - 1s 790us/sample - loss: 0.0887 - acc: 0.9744 - val_loss: 1.9446 - val_acc: 0.5924\n",
      "Epoch 70/100\n",
      "1560/1560 [==============================] - 1s 775us/sample - loss: 0.0819 - acc: 0.9769 - val_loss: 2.0863 - val_acc: 0.5798\n",
      "Epoch 71/100\n",
      "1560/1560 [==============================] - 1s 807us/sample - loss: 0.0639 - acc: 0.9821 - val_loss: 2.1468 - val_acc: 0.5756\n",
      "Epoch 72/100\n",
      "1560/1560 [==============================] - 1s 777us/sample - loss: 0.0873 - acc: 0.9744 - val_loss: 1.9138 - val_acc: 0.5651\n",
      "Epoch 73/100\n",
      "1560/1560 [==============================] - 1s 781us/sample - loss: 0.0820 - acc: 0.9724 - val_loss: 2.0931 - val_acc: 0.5525\n",
      "Epoch 74/100\n",
      "1560/1560 [==============================] - 1s 804us/sample - loss: 0.0637 - acc: 0.9788 - val_loss: 2.2858 - val_acc: 0.5840\n",
      "Epoch 75/100\n",
      "1560/1560 [==============================] - 1s 784us/sample - loss: 0.0558 - acc: 0.9821 - val_loss: 2.2286 - val_acc: 0.5735\n",
      "Epoch 76/100\n",
      "1560/1560 [==============================] - 1s 805us/sample - loss: 0.0588 - acc: 0.9782 - val_loss: 2.1793 - val_acc: 0.5651\n",
      "Epoch 77/100\n",
      "1560/1560 [==============================] - 1s 796us/sample - loss: 0.0638 - acc: 0.9776 - val_loss: 2.0699 - val_acc: 0.5672\n",
      "Epoch 78/100\n",
      "1560/1560 [==============================] - 1s 776us/sample - loss: 0.0516 - acc: 0.9827 - val_loss: 2.0371 - val_acc: 0.5840\n",
      "Epoch 79/100\n",
      "1560/1560 [==============================] - 1s 804us/sample - loss: 0.0302 - acc: 0.9904 - val_loss: 2.3261 - val_acc: 0.6008\n",
      "Epoch 80/100\n",
      "1560/1560 [==============================] - 1s 813us/sample - loss: 0.0461 - acc: 0.9840 - val_loss: 2.1416 - val_acc: 0.5903\n",
      "Epoch 81/100\n",
      "1560/1560 [==============================] - 1s 805us/sample - loss: 0.0358 - acc: 0.9897 - val_loss: 2.2602 - val_acc: 0.6050\n",
      "Epoch 82/100\n",
      "1560/1560 [==============================] - 1s 789us/sample - loss: 0.0310 - acc: 0.9885 - val_loss: 2.3711 - val_acc: 0.5714\n",
      "Epoch 83/100\n",
      "1560/1560 [==============================] - 1s 774us/sample - loss: 0.0548 - acc: 0.9801 - val_loss: 2.2803 - val_acc: 0.5735\n",
      "Epoch 84/100\n",
      "1560/1560 [==============================] - 1s 785us/sample - loss: 0.0392 - acc: 0.9872 - val_loss: 2.3176 - val_acc: 0.5735\n",
      "Epoch 85/100\n",
      "1560/1560 [==============================] - 1s 781us/sample - loss: 0.0391 - acc: 0.9885 - val_loss: 2.1922 - val_acc: 0.5966\n",
      "Epoch 86/100\n",
      "1560/1560 [==============================] - 1s 809us/sample - loss: 0.0194 - acc: 0.9962 - val_loss: 2.3551 - val_acc: 0.5735\n",
      "Epoch 87/100\n",
      "1560/1560 [==============================] - 1s 795us/sample - loss: 0.0475 - acc: 0.9897 - val_loss: 2.3472 - val_acc: 0.5861\n",
      "Epoch 88/100\n",
      "1560/1560 [==============================] - 1s 786us/sample - loss: 0.0262 - acc: 0.9936 - val_loss: 2.2470 - val_acc: 0.6008\n",
      "Epoch 89/100\n",
      "1560/1560 [==============================] - 1s 809us/sample - loss: 0.0240 - acc: 0.9936 - val_loss: 2.5429 - val_acc: 0.5987\n",
      "Epoch 90/100\n",
      "1560/1560 [==============================] - 1s 779us/sample - loss: 0.0390 - acc: 0.9865 - val_loss: 2.3025 - val_acc: 0.5756\n",
      "Epoch 91/100\n",
      "1560/1560 [==============================] - 1s 792us/sample - loss: 0.0299 - acc: 0.9885 - val_loss: 2.4128 - val_acc: 0.5840\n",
      "Epoch 92/100\n",
      "1560/1560 [==============================] - 1s 823us/sample - loss: 0.0329 - acc: 0.9904 - val_loss: 2.1573 - val_acc: 0.5903\n",
      "Epoch 93/100\n",
      "1560/1560 [==============================] - 1s 786us/sample - loss: 0.0296 - acc: 0.9917 - val_loss: 2.3196 - val_acc: 0.5924\n",
      "Epoch 94/100\n",
      "1560/1560 [==============================] - 1s 773us/sample - loss: 0.0304 - acc: 0.9910 - val_loss: 2.3341 - val_acc: 0.5756\n",
      "Epoch 95/100\n",
      "1560/1560 [==============================] - 1s 798us/sample - loss: 0.0232 - acc: 0.9917 - val_loss: 2.3366 - val_acc: 0.5882\n",
      "Epoch 96/100\n",
      "1560/1560 [==============================] - 1s 826us/sample - loss: 0.0346 - acc: 0.9859 - val_loss: 2.2860 - val_acc: 0.5903\n",
      "Epoch 97/100\n",
      "1560/1560 [==============================] - 1s 809us/sample - loss: 0.0390 - acc: 0.9891 - val_loss: 2.2442 - val_acc: 0.5609\n",
      "Epoch 98/100\n",
      "1560/1560 [==============================] - 1s 811us/sample - loss: 0.0227 - acc: 0.9936 - val_loss: 2.1643 - val_acc: 0.5651\n",
      "Epoch 99/100\n",
      "1560/1560 [==============================] - 1s 819us/sample - loss: 0.0222 - acc: 0.9949 - val_loss: 2.4273 - val_acc: 0.5735\n",
      "Epoch 100/100\n",
      "1560/1560 [==============================] - 1s 792us/sample - loss: 0.0204 - acc: 0.9936 - val_loss: 2.2508 - val_acc: 0.5840\n"
     ]
    },
    {
     "data": {
      "image/png": "[encoded data removed]",
      "text/plain": [
       "<Figure size 432x288 with 1 Axes>"
      ]
     },
     "metadata": {
      "tags": []
     },
     "output_type": "display_data"
    }
   ],
   "source": [
    "history = model.fit(np.array(train).reshape(len(train),256,256,1),one_hot_labels_train, epochs=100, batch_size=16, validation_data = (np.array(test).reshape(len(test),256,256,1),one_hot_labels_test), shuffle = True)\n",
    "\n",
    "# Plot training & validation accuracy values\n",
    "plt.plot(history.history['acc'])\n",
    "plt.plot(history.history['val_acc'])\n",
    "plt.title('Model accuracy')\n",
    "plt.ylabel('Accuracy')\n",
    "plt.xlabel('Epoch')\n",
    "plt.legend(['Train', 'Val'], loc='upper left')\n",
    "plt.show()"
   ]
  },
  {
   "cell_type": "code",
   "execution_count": 78,
   "metadata": {
    "colab": {
     "base_uri": "https://localhost:8080/",
     "height": 295
    },
    "colab_type": "code",
    "id": "gMXwwj68hlj-",
    "outputId": "2d7641f6-2919-409b-857c-2140024ec0e5"
   },
   "outputs": [
    {
     "data": {
      "image/png": "[encoded data removed]",
      "text/plain": [
       "<Figure size 432x288 with 1 Axes>"
      ]
     },
     "metadata": {
      "tags": []
     },
     "output_type": "display_data"
    }
   ],
   "source": [
    "# Plot training & validation loss values\n",
    "plt.plot(history.history['loss'])\n",
    "plt.plot(history.history['val_loss'])\n",
    "plt.title('Model loss')\n",
    "plt.ylabel('Loss')\n",
    "plt.xlabel('Epoch')\n",
    "plt.legend(['Train', 'Test'], loc='upper left')\n",
    "plt.show()"
   ]
  },
  {
   "cell_type": "code",
   "execution_count": 79,
   "metadata": {
    "colab": {
     "base_uri": "https://localhost:8080/",
     "height": 295
    },
    "colab_type": "code",
    "id": "4NiKRGYxh1gf",
    "outputId": "8afa11a7-3898-4c0f-c7ab-a9a917b9aa60"
   },
   "outputs": [
    {
     "data": {
      "image/png": "[encoded data removed]",
      "text/plain": [
       "<Figure size 432x288 with 1 Axes>"
      ]
     },
     "metadata": {
      "tags": []
     },
     "output_type": "display_data"
    }
   ],
   "source": [
    "# Plot training & validation acc\n",
    "plt.plot(history.history['acc'])\n",
    "plt.plot(history.history['val_acc'])\n",
    "plt.title('Acc')\n",
    "plt.ylabel('Acc')\n",
    "plt.xlabel('Epoch')\n",
    "plt.legend(['Train', 'Test'], loc='upper left')\n",
    "plt.show()"
   ]
  },
  {
   "cell_type": "code",
   "execution_count": 0,
   "metadata": {
    "colab": {},
    "colab_type": "code",
    "id": "REOx1Y8biHbd"
   },
   "outputs": [],
   "source": [
    "y_pred = model.predict(np.array(test).reshape(len(test),256,256,1))"
   ]
  },
  {
   "cell_type": "code",
   "execution_count": 0,
   "metadata": {
    "colab": {},
    "colab_type": "code",
    "id": "8Kts9JqBibaA"
   },
   "outputs": [],
   "source": [
    "C = tf.math.confusion_matrix(\n",
    "    np.array(test_labels),\n",
    "    np.argmax(y_pred, axis = -1),\n",
    "    num_classes=8,\n",
    "    weights=None,\n",
    "    dtype=tf.dtypes.int64,\n",
    "    name=None\n",
    ")"
   ]
  },
  {
   "cell_type": "code",
   "execution_count": 82,
   "metadata": {
    "colab": {
     "base_uri": "https://localhost:8080/",
     "height": 185
    },
    "colab_type": "code",
    "id": "Vm296ohz4OcW",
    "outputId": "f0098207-50c8-4c6c-d0fb-9d9ad82e9b24"
   },
   "outputs": [
    {
     "name": "stdout",
     "output_type": "stream",
     "text": [
      "Confusion Matrix: \n",
      "\n",
      " [[21  2  0 11  1  1  0  0]\n",
      " [ 1 50  0 17  1  3  0  0]\n",
      " [ 0  7 25  7 12 13  2  6]\n",
      " [ 5  6  3 41  6  6  3  2]\n",
      " [ 1  0  5  3 54  4  2  3]\n",
      " [ 0  1  4 16  4 39  2  6]\n",
      " [ 1  0  0  0  7  0 31  1]\n",
      " [ 1  0  1  2  1 12  6 17]]\n"
     ]
    }
   ],
   "source": [
    "with tf.Session():\n",
    "   print('Confusion Matrix: \\n\\n', tf.Tensor.eval(C,feed_dict=None, session=None))"
   ]
  },
  {
   "cell_type": "code",
   "execution_count": 85,
   "metadata": {
    "colab": {
     "base_uri": "https://localhost:8080/",
     "height": 286
    },
    "colab_type": "code",
    "id": "l2AAWN4F5c-u",
    "outputId": "6cffbf33-c398-40db-c6af-2a1142ed426e"
   },
   "outputs": [
    {
     "data": {
      "text/plain": [
       "array([[0.58333333, 0.05555556, 0.        , 0.30555556, 0.02777778,\n",
       "        0.02777778, 0.        , 0.        ],\n",
       "       [0.01388889, 0.69444444, 0.        , 0.23611111, 0.01388889,\n",
       "        0.04166667, 0.        , 0.        ],\n",
       "       [0.        , 0.09722222, 0.34722222, 0.09722222, 0.16666667,\n",
       "        0.18055556, 0.02777778, 0.08333333],\n",
       "       [0.06944444, 0.08333333, 0.04166667, 0.56944444, 0.08333333,\n",
       "        0.08333333, 0.04166667, 0.02777778],\n",
       "       [0.01388889, 0.        , 0.06944444, 0.04166667, 0.75      ,\n",
       "        0.05555556, 0.02777778, 0.04166667],\n",
       "       [0.        , 0.01388889, 0.05555556, 0.22222222, 0.05555556,\n",
       "        0.54166667, 0.02777778, 0.08333333],\n",
       "       [0.025     , 0.        , 0.        , 0.        , 0.175     ,\n",
       "        0.        , 0.775     , 0.025     ],\n",
       "       [0.025     , 0.        , 0.025     , 0.05      , 0.025     ,\n",
       "        0.3       , 0.15      , 0.425     ]])"
      ]
     },
     "execution_count": 85,
     "metadata": {
      "tags": []
     },
     "output_type": "execute_result"
    }
   ],
   "source": [
    "from sklearn.preprocessing import normalize\n",
    "with tf.Session():\n",
    "  m = normalize(tf.Tensor.eval(C,feed_dict=None, session=None), axis=1, norm='l1')\n",
    "m"
   ]
  }
 ],
 "metadata": {
  "accelerator": "GPU",
  "colab": {
   "collapsed_sections": [],
   "name": "final_RADVEES.ipynb",
   "provenance": []
  },
  "kernelspec": {
   "display_name": "Python 3",
   "language": "python",
   "name": "python3"
  },
  "language_info": {
   "codemirror_mode": {
    "name": "ipython",
    "version": 3
   },
   "file_extension": ".py",
   "mimetype": "text/x-python",
   "name": "python",
   "nbconvert_exporter": "python",
   "pygments_lexer": "ipython3",
   "version": "3.6.8"
  }
 },
 "nbformat": 4,
 "nbformat_minor": 1
}
